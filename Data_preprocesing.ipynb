{
  "cells": [
    {
      "cell_type": "markdown",
      "metadata": {
        "id": "dEBjIWZjjaBO"
      },
      "source": [
        "# Data Preprocessing:\n",
        "1. Import necessary libraries\n",
        "2. Read dataset\n",
        "3. Sanity check of data\n",
        "4. Missing value treatments\n",
        "5. Duplicates & garbage value treatments\n",
        "6. Outliers treatment\n",
        "7. Exploratory data analysis (EDA)\n",
        "8. Encoding of data\n",
        "9. Normalisation/ Standardization"
      ]
    },
    {
      "cell_type": "markdown",
      "metadata": {
        "id": "yiHJHXGN3VKC"
      },
      "source": [
        "# Importing Necessary Libraries"
      ]
    },
    {
      "cell_type": "code",
      "execution_count": null,
      "metadata": {
        "id": "RlmBDOQB4ibB"
      },
      "outputs": [],
      "source": [
        "import numpy as np\n",
        "import pandas as pd\n",
        "import seaborn as sns\n",
        "import matplotlib.pyplot as plt"
      ]
    },
    {
      "cell_type": "markdown",
      "metadata": {
        "id": "DZn1VLahRVoU"
      },
      "source": [
        "# Reading dataset"
      ]
    },
    {
      "cell_type": "code",
      "execution_count": null,
      "metadata": {
        "colab": {
          "background_save": true,
          "base_uri": "https://localhost:8080/"
        },
        "id": "_wWiz2nTydsH",
        "outputId": "3b6b8740-e308-4048-f6e1-652213a63ee3"
      },
      "outputs": [
        {
          "name": "stdout",
          "output_type": "stream",
          "text": [
            "Mounted at /content/drive\n"
          ]
        },
        {
          "data": {
            "application/vnd.google.colaboratory.intrinsic+json": {
              "type": "dataframe",
              "variable_name": "df"
            },
            "text/html": [
              "\n",
              "  <div id=\"df-4629b0ed-445a-4c10-bff4-a1d6a5a6f451\" class=\"colab-df-container\">\n",
              "    <div>\n",
              "<style scoped>\n",
              "    .dataframe tbody tr th:only-of-type {\n",
              "        vertical-align: middle;\n",
              "    }\n",
              "\n",
              "    .dataframe tbody tr th {\n",
              "        vertical-align: top;\n",
              "    }\n",
              "\n",
              "    .dataframe thead th {\n",
              "        text-align: right;\n",
              "    }\n",
              "</style>\n",
              "<table border=\"1\" class=\"dataframe\">\n",
              "  <thead>\n",
              "    <tr style=\"text-align: right;\">\n",
              "      <th></th>\n",
              "      <th>Unnamed: 0</th>\n",
              "      <th>City</th>\n",
              "      <th>Datetime</th>\n",
              "      <th>PM2.5</th>\n",
              "      <th>PM10</th>\n",
              "      <th>NO</th>\n",
              "      <th>NO2</th>\n",
              "      <th>NOx</th>\n",
              "      <th>NH3</th>\n",
              "      <th>CO</th>\n",
              "      <th>...</th>\n",
              "      <th>State</th>\n",
              "      <th>Status</th>\n",
              "      <th>Region</th>\n",
              "      <th>Day_period</th>\n",
              "      <th>Month</th>\n",
              "      <th>Year</th>\n",
              "      <th>Season</th>\n",
              "      <th>Weekday_or_weekend</th>\n",
              "      <th>Regular_day_or_holiday</th>\n",
              "      <th>AQ_Acceptability</th>\n",
              "    </tr>\n",
              "  </thead>\n",
              "  <tbody>\n",
              "    <tr>\n",
              "      <th>0</th>\n",
              "      <td>0</td>\n",
              "      <td>Ahmedabad</td>\n",
              "      <td>2015-01-01 01:00:00</td>\n",
              "      <td>NaN</td>\n",
              "      <td>NaN</td>\n",
              "      <td>1.00</td>\n",
              "      <td>40.01</td>\n",
              "      <td>36.37</td>\n",
              "      <td>NaN</td>\n",
              "      <td>1.00</td>\n",
              "      <td>...</td>\n",
              "      <td>Gujarat</td>\n",
              "      <td>Active</td>\n",
              "      <td>5. Western</td>\n",
              "      <td>4. Night</td>\n",
              "      <td>01. Jan</td>\n",
              "      <td>2015</td>\n",
              "      <td>1. Winter</td>\n",
              "      <td>Weekday</td>\n",
              "      <td>Regular day</td>\n",
              "      <td>Unacceptable</td>\n",
              "    </tr>\n",
              "    <tr>\n",
              "      <th>1</th>\n",
              "      <td>1</td>\n",
              "      <td>Ahmedabad</td>\n",
              "      <td>2015-01-01 02:00:00</td>\n",
              "      <td>NaN</td>\n",
              "      <td>NaN</td>\n",
              "      <td>0.02</td>\n",
              "      <td>27.75</td>\n",
              "      <td>19.73</td>\n",
              "      <td>NaN</td>\n",
              "      <td>0.02</td>\n",
              "      <td>...</td>\n",
              "      <td>Gujarat</td>\n",
              "      <td>Active</td>\n",
              "      <td>5. Western</td>\n",
              "      <td>4. Night</td>\n",
              "      <td>01. Jan</td>\n",
              "      <td>2015</td>\n",
              "      <td>1. Winter</td>\n",
              "      <td>Weekday</td>\n",
              "      <td>Regular day</td>\n",
              "      <td>Unacceptable</td>\n",
              "    </tr>\n",
              "    <tr>\n",
              "      <th>2</th>\n",
              "      <td>2</td>\n",
              "      <td>Ahmedabad</td>\n",
              "      <td>2015-01-01 03:00:00</td>\n",
              "      <td>NaN</td>\n",
              "      <td>NaN</td>\n",
              "      <td>0.08</td>\n",
              "      <td>19.32</td>\n",
              "      <td>11.08</td>\n",
              "      <td>NaN</td>\n",
              "      <td>0.08</td>\n",
              "      <td>...</td>\n",
              "      <td>Gujarat</td>\n",
              "      <td>Active</td>\n",
              "      <td>5. Western</td>\n",
              "      <td>4. Night</td>\n",
              "      <td>01. Jan</td>\n",
              "      <td>2015</td>\n",
              "      <td>1. Winter</td>\n",
              "      <td>Weekday</td>\n",
              "      <td>Regular day</td>\n",
              "      <td>Unacceptable</td>\n",
              "    </tr>\n",
              "    <tr>\n",
              "      <th>3</th>\n",
              "      <td>3</td>\n",
              "      <td>Ahmedabad</td>\n",
              "      <td>2015-01-01 04:00:00</td>\n",
              "      <td>NaN</td>\n",
              "      <td>NaN</td>\n",
              "      <td>0.30</td>\n",
              "      <td>16.45</td>\n",
              "      <td>9.20</td>\n",
              "      <td>NaN</td>\n",
              "      <td>0.30</td>\n",
              "      <td>...</td>\n",
              "      <td>Gujarat</td>\n",
              "      <td>Active</td>\n",
              "      <td>5. Western</td>\n",
              "      <td>1. Morning</td>\n",
              "      <td>01. Jan</td>\n",
              "      <td>2015</td>\n",
              "      <td>1. Winter</td>\n",
              "      <td>Weekday</td>\n",
              "      <td>Regular day</td>\n",
              "      <td>Unacceptable</td>\n",
              "    </tr>\n",
              "    <tr>\n",
              "      <th>4</th>\n",
              "      <td>4</td>\n",
              "      <td>Ahmedabad</td>\n",
              "      <td>2015-01-01 05:00:00</td>\n",
              "      <td>NaN</td>\n",
              "      <td>NaN</td>\n",
              "      <td>0.12</td>\n",
              "      <td>14.90</td>\n",
              "      <td>7.85</td>\n",
              "      <td>NaN</td>\n",
              "      <td>0.12</td>\n",
              "      <td>...</td>\n",
              "      <td>Gujarat</td>\n",
              "      <td>Active</td>\n",
              "      <td>5. Western</td>\n",
              "      <td>1. Morning</td>\n",
              "      <td>01. Jan</td>\n",
              "      <td>2015</td>\n",
              "      <td>1. Winter</td>\n",
              "      <td>Weekday</td>\n",
              "      <td>Regular day</td>\n",
              "      <td>Unacceptable</td>\n",
              "    </tr>\n",
              "  </tbody>\n",
              "</table>\n",
              "<p>5 rows × 29 columns</p>\n",
              "</div>\n",
              "    <div class=\"colab-df-buttons\">\n",
              "\n",
              "  <div class=\"colab-df-container\">\n",
              "    <button class=\"colab-df-convert\" onclick=\"convertToInteractive('df-4629b0ed-445a-4c10-bff4-a1d6a5a6f451')\"\n",
              "            title=\"Convert this dataframe to an interactive table.\"\n",
              "            style=\"display:none;\">\n",
              "\n",
              "  <svg xmlns=\"http://www.w3.org/2000/svg\" height=\"24px\" viewBox=\"0 -960 960 960\">\n",
              "    <path d=\"M120-120v-720h720v720H120Zm60-500h600v-160H180v160Zm220 220h160v-160H400v160Zm0 220h160v-160H400v160ZM180-400h160v-160H180v160Zm440 0h160v-160H620v160ZM180-180h160v-160H180v160Zm440 0h160v-160H620v160Z\"/>\n",
              "  </svg>\n",
              "    </button>\n",
              "\n",
              "  <style>\n",
              "    .colab-df-container {\n",
              "      display:flex;\n",
              "      gap: 12px;\n",
              "    }\n",
              "\n",
              "    .colab-df-convert {\n",
              "      background-color: #E8F0FE;\n",
              "      border: none;\n",
              "      border-radius: 50%;\n",
              "      cursor: pointer;\n",
              "      display: none;\n",
              "      fill: #1967D2;\n",
              "      height: 32px;\n",
              "      padding: 0 0 0 0;\n",
              "      width: 32px;\n",
              "    }\n",
              "\n",
              "    .colab-df-convert:hover {\n",
              "      background-color: #E2EBFA;\n",
              "      box-shadow: 0px 1px 2px rgba(60, 64, 67, 0.3), 0px 1px 3px 1px rgba(60, 64, 67, 0.15);\n",
              "      fill: #174EA6;\n",
              "    }\n",
              "\n",
              "    .colab-df-buttons div {\n",
              "      margin-bottom: 4px;\n",
              "    }\n",
              "\n",
              "    [theme=dark] .colab-df-convert {\n",
              "      background-color: #3B4455;\n",
              "      fill: #D2E3FC;\n",
              "    }\n",
              "\n",
              "    [theme=dark] .colab-df-convert:hover {\n",
              "      background-color: #434B5C;\n",
              "      box-shadow: 0px 1px 3px 1px rgba(0, 0, 0, 0.15);\n",
              "      filter: drop-shadow(0px 1px 2px rgba(0, 0, 0, 0.3));\n",
              "      fill: #FFFFFF;\n",
              "    }\n",
              "  </style>\n",
              "\n",
              "    <script>\n",
              "      const buttonEl =\n",
              "        document.querySelector('#df-4629b0ed-445a-4c10-bff4-a1d6a5a6f451 button.colab-df-convert');\n",
              "      buttonEl.style.display =\n",
              "        google.colab.kernel.accessAllowed ? 'block' : 'none';\n",
              "\n",
              "      async function convertToInteractive(key) {\n",
              "        const element = document.querySelector('#df-4629b0ed-445a-4c10-bff4-a1d6a5a6f451');\n",
              "        const dataTable =\n",
              "          await google.colab.kernel.invokeFunction('convertToInteractive',\n",
              "                                                    [key], {});\n",
              "        if (!dataTable) return;\n",
              "\n",
              "        const docLinkHtml = 'Like what you see? Visit the ' +\n",
              "          '<a target=\"_blank\" href=https://colab.research.google.com/notebooks/data_table.ipynb>data table notebook</a>'\n",
              "          + ' to learn more about interactive tables.';\n",
              "        element.innerHTML = '';\n",
              "        dataTable['output_type'] = 'display_data';\n",
              "        await google.colab.output.renderOutput(dataTable, element);\n",
              "        const docLink = document.createElement('div');\n",
              "        docLink.innerHTML = docLinkHtml;\n",
              "        element.appendChild(docLink);\n",
              "      }\n",
              "    </script>\n",
              "  </div>\n",
              "\n",
              "\n",
              "<div id=\"df-cb711db0-43e8-4dd7-ad4f-4ce04b4b7017\">\n",
              "  <button class=\"colab-df-quickchart\" onclick=\"quickchart('df-cb711db0-43e8-4dd7-ad4f-4ce04b4b7017')\"\n",
              "            title=\"Suggest charts\"\n",
              "            style=\"display:none;\">\n",
              "\n",
              "<svg xmlns=\"http://www.w3.org/2000/svg\" height=\"24px\"viewBox=\"0 0 24 24\"\n",
              "     width=\"24px\">\n",
              "    <g>\n",
              "        <path d=\"M19 3H5c-1.1 0-2 .9-2 2v14c0 1.1.9 2 2 2h14c1.1 0 2-.9 2-2V5c0-1.1-.9-2-2-2zM9 17H7v-7h2v7zm4 0h-2V7h2v10zm4 0h-2v-4h2v4z\"/>\n",
              "    </g>\n",
              "</svg>\n",
              "  </button>\n",
              "\n",
              "<style>\n",
              "  .colab-df-quickchart {\n",
              "      --bg-color: #E8F0FE;\n",
              "      --fill-color: #1967D2;\n",
              "      --hover-bg-color: #E2EBFA;\n",
              "      --hover-fill-color: #174EA6;\n",
              "      --disabled-fill-color: #AAA;\n",
              "      --disabled-bg-color: #DDD;\n",
              "  }\n",
              "\n",
              "  [theme=dark] .colab-df-quickchart {\n",
              "      --bg-color: #3B4455;\n",
              "      --fill-color: #D2E3FC;\n",
              "      --hover-bg-color: #434B5C;\n",
              "      --hover-fill-color: #FFFFFF;\n",
              "      --disabled-bg-color: #3B4455;\n",
              "      --disabled-fill-color: #666;\n",
              "  }\n",
              "\n",
              "  .colab-df-quickchart {\n",
              "    background-color: var(--bg-color);\n",
              "    border: none;\n",
              "    border-radius: 50%;\n",
              "    cursor: pointer;\n",
              "    display: none;\n",
              "    fill: var(--fill-color);\n",
              "    height: 32px;\n",
              "    padding: 0;\n",
              "    width: 32px;\n",
              "  }\n",
              "\n",
              "  .colab-df-quickchart:hover {\n",
              "    background-color: var(--hover-bg-color);\n",
              "    box-shadow: 0 1px 2px rgba(60, 64, 67, 0.3), 0 1px 3px 1px rgba(60, 64, 67, 0.15);\n",
              "    fill: var(--button-hover-fill-color);\n",
              "  }\n",
              "\n",
              "  .colab-df-quickchart-complete:disabled,\n",
              "  .colab-df-quickchart-complete:disabled:hover {\n",
              "    background-color: var(--disabled-bg-color);\n",
              "    fill: var(--disabled-fill-color);\n",
              "    box-shadow: none;\n",
              "  }\n",
              "\n",
              "  .colab-df-spinner {\n",
              "    border: 2px solid var(--fill-color);\n",
              "    border-color: transparent;\n",
              "    border-bottom-color: var(--fill-color);\n",
              "    animation:\n",
              "      spin 1s steps(1) infinite;\n",
              "  }\n",
              "\n",
              "  @keyframes spin {\n",
              "    0% {\n",
              "      border-color: transparent;\n",
              "      border-bottom-color: var(--fill-color);\n",
              "      border-left-color: var(--fill-color);\n",
              "    }\n",
              "    20% {\n",
              "      border-color: transparent;\n",
              "      border-left-color: var(--fill-color);\n",
              "      border-top-color: var(--fill-color);\n",
              "    }\n",
              "    30% {\n",
              "      border-color: transparent;\n",
              "      border-left-color: var(--fill-color);\n",
              "      border-top-color: var(--fill-color);\n",
              "      border-right-color: var(--fill-color);\n",
              "    }\n",
              "    40% {\n",
              "      border-color: transparent;\n",
              "      border-right-color: var(--fill-color);\n",
              "      border-top-color: var(--fill-color);\n",
              "    }\n",
              "    60% {\n",
              "      border-color: transparent;\n",
              "      border-right-color: var(--fill-color);\n",
              "    }\n",
              "    80% {\n",
              "      border-color: transparent;\n",
              "      border-right-color: var(--fill-color);\n",
              "      border-bottom-color: var(--fill-color);\n",
              "    }\n",
              "    90% {\n",
              "      border-color: transparent;\n",
              "      border-bottom-color: var(--fill-color);\n",
              "    }\n",
              "  }\n",
              "</style>\n",
              "\n",
              "  <script>\n",
              "    async function quickchart(key) {\n",
              "      const quickchartButtonEl =\n",
              "        document.querySelector('#' + key + ' button');\n",
              "      quickchartButtonEl.disabled = true;  // To prevent multiple clicks.\n",
              "      quickchartButtonEl.classList.add('colab-df-spinner');\n",
              "      try {\n",
              "        const charts = await google.colab.kernel.invokeFunction(\n",
              "            'suggestCharts', [key], {});\n",
              "      } catch (error) {\n",
              "        console.error('Error during call to suggestCharts:', error);\n",
              "      }\n",
              "      quickchartButtonEl.classList.remove('colab-df-spinner');\n",
              "      quickchartButtonEl.classList.add('colab-df-quickchart-complete');\n",
              "    }\n",
              "    (() => {\n",
              "      let quickchartButtonEl =\n",
              "        document.querySelector('#df-cb711db0-43e8-4dd7-ad4f-4ce04b4b7017 button');\n",
              "      quickchartButtonEl.style.display =\n",
              "        google.colab.kernel.accessAllowed ? 'block' : 'none';\n",
              "    })();\n",
              "  </script>\n",
              "</div>\n",
              "\n",
              "    </div>\n",
              "  </div>\n"
            ],
            "text/plain": [
              "   Unnamed: 0       City             Datetime  PM2.5  PM10    NO    NO2  \\\n",
              "0           0  Ahmedabad  2015-01-01 01:00:00    NaN   NaN  1.00  40.01   \n",
              "1           1  Ahmedabad  2015-01-01 02:00:00    NaN   NaN  0.02  27.75   \n",
              "2           2  Ahmedabad  2015-01-01 03:00:00    NaN   NaN  0.08  19.32   \n",
              "3           3  Ahmedabad  2015-01-01 04:00:00    NaN   NaN  0.30  16.45   \n",
              "4           4  Ahmedabad  2015-01-01 05:00:00    NaN   NaN  0.12  14.90   \n",
              "\n",
              "     NOx  NH3    CO  ...    State  Status      Region  Day_period    Month  \\\n",
              "0  36.37  NaN  1.00  ...  Gujarat  Active  5. Western    4. Night  01. Jan   \n",
              "1  19.73  NaN  0.02  ...  Gujarat  Active  5. Western    4. Night  01. Jan   \n",
              "2  11.08  NaN  0.08  ...  Gujarat  Active  5. Western    4. Night  01. Jan   \n",
              "3   9.20  NaN  0.30  ...  Gujarat  Active  5. Western  1. Morning  01. Jan   \n",
              "4   7.85  NaN  0.12  ...  Gujarat  Active  5. Western  1. Morning  01. Jan   \n",
              "\n",
              "   Year     Season Weekday_or_weekend Regular_day_or_holiday AQ_Acceptability  \n",
              "0  2015  1. Winter            Weekday            Regular day     Unacceptable  \n",
              "1  2015  1. Winter            Weekday            Regular day     Unacceptable  \n",
              "2  2015  1. Winter            Weekday            Regular day     Unacceptable  \n",
              "3  2015  1. Winter            Weekday            Regular day     Unacceptable  \n",
              "4  2015  1. Winter            Weekday            Regular day     Unacceptable  \n",
              "\n",
              "[5 rows x 29 columns]"
            ]
          },
          "execution_count": 2,
          "metadata": {},
          "output_type": "execute_result"
        }
      ],
      "source": [
        "from google.colab import drive\n",
        "drive.mount('/content/drive')\n",
        "df=pd.read_csv(\"/content/drive/MyDrive/city_hour_transformed.csv\")\n",
        "df.head()"
      ]
    },
    {
      "cell_type": "markdown",
      "metadata": {
        "id": "YRYfilhIh0rG"
      },
      "source": [
        "#Drop Xylene column"
      ]
    },
    {
      "cell_type": "code",
      "execution_count": null,
      "metadata": {
        "colab": {
          "background_save": true
        },
        "id": "JG5mQ2Lx5liM",
        "outputId": "3b8ba65b-dd7a-4cea-b582-d12acd97f9e8"
      },
      "outputs": [
        {
          "data": {
            "text/plain": [
              "(4476937, 28)"
            ]
          },
          "execution_count": 3,
          "metadata": {},
          "output_type": "execute_result"
        }
      ],
      "source": [
        "df.drop(columns=['Xylene'], inplace=True)\n",
        "df.shape"
      ]
    },
    {
      "cell_type": "markdown",
      "metadata": {
        "id": "cAwclKp_MXe3"
      },
      "source": [
        "# Check null columns"
      ]
    },
    {
      "cell_type": "code",
      "execution_count": null,
      "metadata": {
        "colab": {
          "background_save": true
        },
        "id": "gowb0YLffH2A",
        "outputId": "1f45c901-cf31-4fac-c190-8f29f93d391d"
      },
      "outputs": [
        {
          "data": {
            "text/plain": [
              "Unnamed: 0                      0\n",
              "City                            0\n",
              "Datetime                        0\n",
              "PM2.5                      600906\n",
              "PM10                      1413338\n",
              "NO                         496494\n",
              "NO2                        497313\n",
              "NOx                        390824\n",
              "NH3                       1231007\n",
              "CO                         255065\n",
              "SO2                        623721\n",
              "O3                         627541\n",
              "Benzene                    484318\n",
              "Toluene                    695586\n",
              "AQI                        577120\n",
              "AQI_Bucket                      0\n",
              "StationId                       0\n",
              "StationName                     0\n",
              "State                           0\n",
              "Status                          0\n",
              "Region                          0\n",
              "Day_period                      0\n",
              "Month                           0\n",
              "Year                            0\n",
              "Season                          0\n",
              "Weekday_or_weekend              0\n",
              "Regular_day_or_holiday          0\n",
              "AQ_Acceptability                0\n",
              "dtype: int64"
            ]
          },
          "execution_count": 4,
          "metadata": {},
          "output_type": "execute_result"
        }
      ],
      "source": [
        "df.isnull().sum()"
      ]
    },
    {
      "cell_type": "markdown",
      "metadata": {
        "id": "qQPgH88Kh5Yp"
      },
      "source": [
        "#Data preprocessing using Simple Imputer for PM10 and NH3"
      ]
    },
    {
      "cell_type": "code",
      "execution_count": null,
      "metadata": {
        "id": "1sm8MOk8gHrs"
      },
      "outputs": [],
      "source": [
        "from sklearn.impute import SimpleImputer\n",
        "# Select the columns to impute\n",
        "columns_to_impute = ['PM10', 'NH3']\n",
        "# Initialize the SimpleImputer for mean imputation\n",
        "mean_imputer = SimpleImputer(strategy='mean')\n",
        "# Fit the imputer on the selected columns and transform them\n",
        "df[columns_to_impute] = mean_imputer.fit_transform(df[columns_to_impute])\n",
        "# Check for any remaining missing values\n",
        "print(df.isnull().sum())\n",
        "# Display the first few rows of the DataFrame\n",
        "df.head()\n"
      ]
    },
    {
      "cell_type": "markdown",
      "metadata": {
        "id": "Jo3lyKjgiqP0"
      },
      "source": [
        "# Imputer other columns with mean"
      ]
    },
    {
      "cell_type": "code",
      "execution_count": null,
      "metadata": {
        "id": "CaQ_aQuoPyBz"
      },
      "outputs": [],
      "source": [
        "numeric_columns = ['PM2.5', 'NO', 'NO2', 'NOx', 'CO', 'SO2', 'O3', 'Benzene', 'Toluene',]\n",
        "for col in numeric_columns:\n",
        "    if df[col].isnull().sum() / len(df) < 0.2:  # Check if missing percentage is below 20%\n",
        "        mean_val = df[col].mean()  # Calculate mean\n",
        "        df[col].fillna(mean_val, inplace=True)"
      ]
    },
    {
      "cell_type": "code",
      "execution_count": null,
      "metadata": {
        "id": "E--u0BxWQzSW"
      },
      "outputs": [],
      "source": [
        "df.isnull().sum()"
      ]
    },
    {
      "cell_type": "markdown",
      "metadata": {
        "id": "bqnrCwm3M0mj"
      },
      "source": [
        "# Drop rows where AQI is missing"
      ]
    },
    {
      "cell_type": "code",
      "execution_count": null,
      "metadata": {
        "id": "3v_LiOQamktf"
      },
      "outputs": [],
      "source": [
        "df = df.dropna(subset=['AQI'])\n",
        "print(df.isnull().sum())\n",
        "df.shape"
      ]
    },
    {
      "cell_type": "markdown",
      "metadata": {
        "id": "uvah88TKM6I4"
      },
      "source": [
        "# Detect duplicate records"
      ]
    },
    {
      "cell_type": "code",
      "execution_count": null,
      "metadata": {
        "id": "Rq_gliC0nUPv"
      },
      "outputs": [],
      "source": [
        "duplicates = df.duplicated()\n",
        "print(duplicates)"
      ]
    },
    {
      "cell_type": "markdown",
      "metadata": {
        "id": "xrOFaH-hM7tg"
      },
      "source": [
        "# Summary"
      ]
    },
    {
      "cell_type": "code",
      "execution_count": null,
      "metadata": {
        "id": "vqSurpsWsWRF"
      },
      "outputs": [],
      "source": [
        "summary_statistics = df.describe()\n",
        "print(summary_statistics)"
      ]
    },
    {
      "cell_type": "markdown",
      "metadata": {
        "id": "njzn-RogM_Gr"
      },
      "source": [
        "#Range-Based Outlier Removal and Treatment"
      ]
    },
    {
      "cell_type": "code",
      "execution_count": null,
      "metadata": {
        "id": "X5Dea-dFvKO0"
      },
      "outputs": [],
      "source": [
        "# Define expected ranges\n",
        "expected_ranges = {\n",
        "    'PM2.5': (0, 500),\n",
        "    'PM10': (0, 500),\n",
        "    'NO': (0, 500),\n",
        "    'NO2': (0, 500),\n",
        "    'NOx': (0, 500),\n",
        "    'NH3': (0, 500),\n",
        "    'CO': (0, 50),\n",
        "    'SO2': (0, 500),\n",
        "    'O3': (0, 500),\n",
        "    'Benzene': (0, 100),\n",
        "    'Toluene': (0, 100),\n",
        "    'AQI': (0, 500)\n",
        "}\n",
        "\n",
        "# Initialize a list to store indices of rows with out-of-range values\n",
        "rows_to_drop = []\n",
        "\n",
        "# Check if values are within expected ranges and collect indices of out-of-range rows\n",
        "for column, (min_val, max_val) in expected_ranges.items():\n",
        "    out_of_range_indices = df[~df[column].between(min_val, max_val)].index\n",
        "    if not out_of_range_indices.empty:\n",
        "        rows_to_drop.extend(out_of_range_indices)\n",
        "\n",
        "# Remove duplicate indices (if any)\n",
        "rows_to_drop = list(set(rows_to_drop))\n",
        "\n",
        "# Drop rows with out-of-range values\n",
        "df= df.drop(rows_to_drop)\n",
        "\n",
        "# Print the shape of the cleaned DataFrame\n",
        "print(\"Shape of cleaned DataFrame:\", df.shape)"
      ]
    },
    {
      "cell_type": "markdown",
      "metadata": {
        "id": "AYIizl-D5nbP"
      },
      "source": [
        "# OLS Regression testing"
      ]
    },
    {
      "cell_type": "code",
      "execution_count": null,
      "metadata": {
        "id": "9oWiqJgn1pfj"
      },
      "outputs": [],
      "source": [
        "import statsmodels.api as sm\n",
        "features = ['PM2.5', 'PM10', 'NO', 'NO2', 'NOx', 'NH3', 'CO', 'SO2', 'O3', 'Benzene', 'Toluene']\n",
        "target = 'AQI'\n",
        "\n",
        "# Create the feature matrix (X) and target vector (y)\n",
        "X = df[features]\n",
        "y = df[target]\n",
        "\n",
        "# Add a constant to the feature matrix (for the intercept term)\n",
        "X = sm.add_constant(X)\n",
        "\n",
        "# Step 5: Perform OLS Regression\n",
        "# Fit the OLS model\n",
        "model = sm.OLS(y, X).fit()\n",
        "\n",
        "# Get the summary of the regression\n",
        "summary = model.summary()\n",
        "print(summary)"
      ]
    },
    {
      "cell_type": "markdown",
      "metadata": {
        "id": "JrbuJiaGO6hJ"
      },
      "source": [
        "# Outliers detection\n",
        "###Z-score Calculation:\n",
        "\n",
        "The Z-score of a data point is calculated using the formula:\n",
        "𝑍 = ( 𝑋 − 𝜇 )/ 𝜎 ​\n",
        "\n",
        "\n",
        "Where :\n",
        "*   𝑋 is the data point,\n",
        "*   𝜇 is the mean of the data, and\n",
        "*   𝜎 is the standard deviation of the data.\n",
        "\n",
        "\n",
        "Once the Z-scores are calculated for each data point in a column, the absolute value of each Z-score is compared to the threshold.\n",
        "\n",
        "Commonly used thresholds are 3 and -3, meaning data points with Z-scores greater than 3 or less than -3 are considered outliers.\n",
        "\n",
        "If the absolute value of a Z-score exceeds the threshold, the corresponding data point is flagged as an outlier.\n",
        "\n",
        "For example, if the threshold is 5, any data point with a Z-score less than -5 or greater than 5 is considered an outlier."
      ]
    },
    {
      "cell_type": "code",
      "execution_count": null,
      "metadata": {
        "id": "pX60gYmF9OwJ"
      },
      "outputs": [],
      "source": [
        "from scipy.stats import zscore\n",
        "# Select only numeric columns for outlier detection\n",
        "numeric_df = df.select_dtypes(include=['float64', 'int64'])\n",
        "\n",
        "# Calculate Z-scores for each column separately to avoid indexing issues\n",
        "z_scores = numeric_df.apply(zscore)\n",
        "\n",
        "# Define a threshold for Z-scores to identify outliers (commonly 3 or -3)\n",
        "threshold = 5\n",
        "\n",
        "# Identify outliers in each numeric column\n",
        "outliers_count = {}\n",
        "for column in numeric_df.columns:\n",
        "    outliers = np.where(np.abs(z_scores[column]) > threshold)[0]\n",
        "    outliers_count[column] = len(outliers)\n",
        "\n",
        "# Display the number of outliers in each numeric column\n",
        "print(\"Number of outliers in each numeric column:\")\n",
        "for column, count in outliers_count.items():\n",
        "    print(f\"{column}: {count}\")\n"
      ]
    },
    {
      "cell_type": "markdown",
      "metadata": {
        "id": "yRAVr_W6eZ7m"
      },
      "source": [
        "# Outliers treatment"
      ]
    },
    {
      "cell_type": "code",
      "execution_count": null,
      "metadata": {
        "id": "0eeyLJ1hzMVB"
      },
      "outputs": [],
      "source": [
        "# Select only numeric columns\n",
        "numeric_columns = df.select_dtypes(include=[np.number]).columns\n",
        "\n",
        "# Calculate Z-scores\n",
        "z_scores = np.abs((df[numeric_columns] - df[numeric_columns].mean()) / df[numeric_columns].std())\n",
        "\n",
        "# Define a threshold for outliers\n",
        "threshold = 5\n",
        "\n",
        "# Identify rows with any outlier\n",
        "outliers = (z_scores > threshold).any(axis=1)\n",
        "num_outliers = outliers.sum()\n",
        "\n",
        "print(\"Number of records that would be removed as outliers:\", num_outliers)\n",
        "# Filter out rows with outliers\n",
        "df = df[~outliers]\n",
        "\n",
        "# Display the shape of the cleaned DataFrame\n",
        "print(\"Shape of the cleaned DataFrame after removing outliers:\", df.shape)\n"
      ]
    },
    {
      "cell_type": "markdown",
      "metadata": {
        "id": "9LqdRIdshVz5"
      },
      "source": [
        "# EDA"
      ]
    },
    {
      "cell_type": "code",
      "execution_count": null,
      "metadata": {
        "id": "9AZVGoKyhRHO"
      },
      "outputs": [],
      "source": [
        "import matplotlib.pyplot as plt\n",
        "import seaborn as sns\n",
        "\n",
        "# Plot histograms for each column\n",
        "df.hist(bins=50, figsize=(20, 15))\n",
        "plt.show()\n"
      ]
    },
    {
      "cell_type": "markdown",
      "metadata": {
        "id": "I0HL9tYzheju"
      },
      "source": [
        "# Heatmap for finding correlation"
      ]
    },
    {
      "cell_type": "code",
      "execution_count": null,
      "metadata": {
        "id": "wk9D2v05hZxq"
      },
      "outputs": [],
      "source": [
        "import matplotlib.pyplot as plt\n",
        "import seaborn as sns\n",
        "\n",
        "# Select only numeric columns from the DataFrame\n",
        "numeric_columns = df.select_dtypes(include=['float64', 'int64'])\n",
        "\n",
        "# Correlation matrix\n",
        "correlation_matrix = numeric_columns.corr()\n",
        "\n",
        "# Heatmap of the correlation matrix\n",
        "plt.figure(figsize=(12, 8))\n",
        "sns.heatmap(correlation_matrix, annot=True, cmap='coolwarm')\n",
        "plt.show()\n"
      ]
    },
    {
      "cell_type": "markdown",
      "metadata": {
        "id": "jmuAMhcMPJps"
      },
      "source": [
        "# All categorical columns"
      ]
    },
    {
      "cell_type": "code",
      "execution_count": null,
      "metadata": {
        "id": "4fgCaSSY31ct"
      },
      "outputs": [],
      "source": [
        "# Select columns with object dtype (assuming categorical columns are of type 'object')\n",
        "categorical_columns = df.select_dtypes(include=['object']).columns\n",
        "\n",
        "# Print the list of categorical columns\n",
        "print(\"Categorical columns:\")\n",
        "print(categorical_columns)\n",
        "\n",
        "# Count the number of categorical columns\n",
        "num_categorical_columns = len(categorical_columns)\n",
        "print(\"Number of categorical columns:\", num_categorical_columns)\n"
      ]
    },
    {
      "cell_type": "markdown",
      "metadata": {
        "id": "RriBlI6QPSYs"
      },
      "source": [
        "# Finding cardinality (Different values for a particular column)"
      ]
    },
    {
      "cell_type": "code",
      "execution_count": null,
      "metadata": {
        "id": "YrEDV5Bc6BLX"
      },
      "outputs": [],
      "source": [
        "# List of categorical columns\n",
        "categorical_columns = ['City', 'Datetime', 'AQI_Bucket', 'StationId', 'StationName', 'State',\n",
        "                       'Status', 'Region', 'Day_period', 'Month', 'Season',\n",
        "                       'Weekday_or_weekend', 'Regular_day_or_holiday', 'AQ_Acceptability']\n",
        "# Calculate cardinality for each categorical column\n",
        "cardinality = {}\n",
        "for column in categorical_columns:\n",
        "    cardinality[column] = df[column].nunique()\n",
        "\n",
        "# Display cardinality of each categorical column\n",
        "for column, value in cardinality.items():\n",
        "    print(f\"{column}: {value}\")"
      ]
    },
    {
      "cell_type": "markdown",
      "metadata": {
        "id": "e4G1m8jMPVji"
      },
      "source": [
        "# Data encoding"
      ]
    },
    {
      "cell_type": "code",
      "execution_count": null,
      "metadata": {
        "id": "1zUJgrYRCR7_"
      },
      "outputs": [],
      "source": [
        "from sklearn.preprocessing import OneHotEncoder, LabelEncoder\n",
        "# Assume df is your original DataFrame\n",
        "\n",
        "# Define columns to encode\n",
        "columns_to_encode = ['Region', 'Day_period', 'Season', 'Weekday_or_weekend', 'Regular_day_or_holiday']\n",
        "\n",
        "# One-hot encode categorical columns except for 'Month'\n",
        "encoder = OneHotEncoder(drop='first', sparse=False)\n",
        "encoded_data = encoder.fit_transform(df[columns_to_encode])\n",
        "\n",
        "# Convert the encoded data into a DataFrame\n",
        "encoded_df = pd.DataFrame(encoded_data, columns=encoder.get_feature_names_out(columns_to_encode))\n",
        "\n",
        "# Label encode 'Month'\n",
        "label_encoder = LabelEncoder()\n",
        "df['Month_encoded'] = label_encoder.fit_transform(df['Month'])\n",
        "\n",
        "# Drop the original columns that were encoded and the original 'Month' column\n",
        "df_temp = df.drop(columns=columns_to_encode + ['Month'])\n",
        "\n",
        "# Concatenate the encoded DataFrame with the remaining original DataFrame\n",
        "df_encoded = pd.concat([df_temp, encoded_df], axis=1)\n",
        "\n",
        "# Display the encoded DataFrame\n",
        "print(df_encoded.head())\n"
      ]
    },
    {
      "cell_type": "markdown",
      "metadata": {
        "id": "u89fETQ_PY61"
      },
      "source": [
        "# Heatmap to visualize the relationship of all encoded columns with AQI"
      ]
    },
    {
      "cell_type": "code",
      "execution_count": null,
      "metadata": {
        "id": "ja_zI6qWCojc"
      },
      "outputs": [],
      "source": [
        "# Select only numeric columns from the DataFrame\n",
        "numeric_columns = df_encoded.select_dtypes(include=['float64', 'int64'])\n",
        "\n",
        "# Correlation matrix\n",
        "correlation_matrix = numeric_columns.corr()\n",
        "\n",
        "# Heatmap of the correlation matrix\n",
        "plt.figure(figsize=(25, 10))\n",
        "sns.heatmap(correlation_matrix, annot=True, cmap='coolwarm')\n",
        "plt.show()\n",
        "print(df.columns)"
      ]
    },
    {
      "cell_type": "markdown",
      "metadata": {
        "id": "51L5lqEFPiXQ"
      },
      "source": [
        "# Reset index and rename index column"
      ]
    },
    {
      "cell_type": "code",
      "execution_count": null,
      "metadata": {
        "id": "foa6JZ-bJub_"
      },
      "outputs": [],
      "source": [
        "# Drop the current 'Serial number' column if it exists\n",
        "df.drop(columns=['Unnamed: 0'], inplace=True, errors='ignore')\n",
        "\n",
        "# Reset the index of the DataFrame\n",
        "df.reset_index(drop=True, inplace=True)\n",
        "\n",
        "# Create a new 'Serial number' column starting from 1\n",
        "df['Serial number'] = df.index + 1\n",
        "\n",
        "# Reorder the columns to move 'Serial number' to the first position\n",
        "columns_order = ['Serial number'] + [col for col in df.columns if col != 'Serial number']\n",
        "df = df[columns_order]\n",
        "\n",
        "# Display the first few rows to verify\n",
        "df.head()\n"
      ]
    },
    {
      "cell_type": "markdown",
      "metadata": {
        "id": "wkYsNYf46dCD"
      },
      "source": [
        "# Set all decimal upto 2 places\n"
      ]
    },
    {
      "cell_type": "code",
      "execution_count": null,
      "metadata": {
        "id": "ODM-WdHDMHx7"
      },
      "outputs": [],
      "source": [
        "# Define the number of decimal places\n",
        "decimal_places = 2\n",
        "\n",
        "# Select only numerical columns\n",
        "numeric_columns = df.select_dtypes(include=['float64', 'int64']).columns\n",
        "\n",
        "# Round numerical columns to the specified number of decimal places\n",
        "df[numeric_columns] = df[numeric_columns].round(decimal_places)\n",
        "\n",
        "# Display the first few rows of the modified DataFrame\n",
        "print(df.head())\n",
        "df.shape"
      ]
    },
    {
      "cell_type": "markdown",
      "metadata": {
        "id": "JiuDGDNJPxAE"
      },
      "source": [
        "# Download CSV before standardization\n"
      ]
    },
    {
      "cell_type": "code",
      "execution_count": null,
      "metadata": {
        "id": "38rkOSFn6gzy"
      },
      "outputs": [],
      "source": [
        "# # Save the dataframe to a CSV file\n",
        "# df.to_csv('processed_data1.csv', index=False)\n",
        "\n",
        "# # Download the file\n",
        "# from google.colab import files\n",
        "# files.download('processed_data1.csv')"
      ]
    },
    {
      "cell_type": "markdown",
      "metadata": {
        "id": "bKM1fkeYPy0O"
      },
      "source": [
        "# Standardization"
      ]
    },
    {
      "cell_type": "code",
      "execution_count": null,
      "metadata": {
        "id": "wM2UPEWvHQuO"
      },
      "outputs": [],
      "source": [
        "from sklearn.preprocessing import StandardScaler\n",
        "\n",
        "# Select numeric columns for normalization\n",
        "numeric_columns = ['PM2.5', 'PM10', 'NO', 'NO2', 'NOx', 'NH3', 'CO', 'SO2', 'O3', 'Benzene',\n",
        "                   'Toluene', 'AQI']\n",
        "\n",
        "# Initialize the scaler\n",
        "scaler = StandardScaler()\n",
        "\n",
        "# Fit and transform the data\n",
        "df[numeric_columns] = scaler.fit_transform(df[numeric_columns])\n",
        "\n",
        "# Display the first few rows of the normalized data\n",
        "print(df.head())"
      ]
    },
    {
      "cell_type": "markdown",
      "metadata": {
        "id": "-U03Nwg7P1EQ"
      },
      "source": [
        "# Download CSV after Standardization"
      ]
    },
    {
      "cell_type": "code",
      "execution_count": null,
      "metadata": {
        "id": "t5jRFqRjMM7a"
      },
      "outputs": [],
      "source": [
        "# Save the dataframe to a CSV file\n",
        "df.to_csv('processed_data2.csv', index=False)\n",
        "\n",
        "# Download the file\n",
        "from google.colab import files\n",
        "files.download('processed_data2.csv')"
      ]
    }
  ],
  "metadata": {
    "colab": {
      "provenance": []
    },
    "kernelspec": {
      "display_name": "Python 3",
      "name": "python3"
    },
    "language_info": {
      "name": "python"
    }
  },
  "nbformat": 4,
  "nbformat_minor": 0
}